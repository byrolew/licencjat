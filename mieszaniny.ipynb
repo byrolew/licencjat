{
 "cells": [
  {
   "cell_type": "code",
   "execution_count": 113,
   "metadata": {},
   "outputs": [],
   "source": [
    "import os\n",
    "import random as rn\n",
    "from copy import copy\n",
    "\n",
    "import numpy as np\n",
    "import tensorflow as tf\n",
    "import matplotlib.pyplot as plt\n",
    "from sklearn.metrics import roc_auc_score, roc_curve\n",
    "\n",
    "from model_utils import *\n",
    "from preprocess import preprocess"
   ]
  },
  {
   "cell_type": "code",
   "execution_count": 2,
   "metadata": {},
   "outputs": [],
   "source": [
    "random_seed = 12345\n",
    "np.random.seed(random_seed)\n",
    "set_seed_global(random_seed)"
   ]
  },
  {
   "cell_type": "code",
   "execution_count": 122,
   "metadata": {},
   "outputs": [],
   "source": [
    "filename = \"htt_features_test.pkl\"\n",
    "data_dict = preprocess(filename, enable_dicriminators=True, random_seed=random_seed)"
   ]
  },
  {
   "cell_type": "code",
   "execution_count": 123,
   "metadata": {},
   "outputs": [],
   "source": [
    "y_true = data_dict[\"labels\"][:]\n",
    "X = data_dict[\"features\"][:]"
   ]
  },
  {
   "cell_type": "code",
   "execution_count": 72,
   "metadata": {
    "scrolled": true
   },
   "outputs": [
    {
     "name": "stdout",
     "output_type": "stream",
     "text": [
      "1.0\n",
      "0.10212705615428247\n",
      "0.10208299745268114\n",
      "test_xgb_1.0 test accuracy 0.8986427016259786\n",
      "test_xgb_1.0 test ROC AUC 0.49965374685840586\n",
      "test_xgb_1.0 whole accuracy 0.8979125047048264\n",
      "test_xgb_1.0 whole ROC AUC 0.42356405166230493\n",
      "0.999\n",
      "0.100850822461713\n",
      "0.10222809789443137\n",
      "test_xgb_0.999 test accuracy 0.8983184323898643\n",
      "test_xgb_0.999 test ROC AUC 0.500595723901832\n",
      "test_xgb_0.999 whole accuracy 0.8979096094270245\n",
      "test_xgb_0.999 whole ROC AUC 0.42122547729833315\n",
      "0.99\n",
      "0.1133862733976177\n",
      "0.10080288911101797\n",
      "test_xgb_0.99 test accuracy 0.898376337610599\n",
      "test_xgb_0.99 test ROC AUC 0.5059718651924703\n",
      "test_xgb_0.99 whole accuracy 0.8979096094270245\n",
      "test_xgb_0.99 whole ROC AUC 0.8929996175281479\n",
      "0.98\n",
      "0.1207033465683494\n",
      "0.09997097991164995\n",
      "test_xgb_0.98 test accuracy 0.8991985917450317\n",
      "test_xgb_0.98 test ROC AUC 0.5091194229337065\n",
      "test_xgb_0.98 whole accuracy 0.8979125047048264\n",
      "test_xgb_0.98 whole ROC AUC 0.9321507107178209\n",
      "0.97\n",
      "0.1287861599546228\n",
      "0.0990520104472318\n",
      "test_xgb_0.97 test accuracy 0.8988974845972113\n",
      "test_xgb_0.97 test ROC AUC 0.5022852549495123\n",
      "test_xgb_0.97 whole accuracy 0.8979125047048264\n",
      "test_xgb_0.97 whole ROC AUC 0.9752595222039159\n",
      "0.96\n",
      "0.1378899602949518\n",
      "0.09801696062941347\n",
      "test_xgb_0.96 test accuracy 0.8975888266086071\n",
      "test_xgb_0.96 test ROC AUC 0.5139571301309821\n",
      "test_xgb_0.96 whole accuracy 0.8979125047048264\n",
      "test_xgb_0.96 whole ROC AUC 0.9658293463709315\n",
      "0.95\n",
      "0.14980147475893363\n",
      "0.09666268983974462\n",
      "test_xgb_0.95 test accuracy 0.8978667716681336\n",
      "test_xgb_0.95 test ROC AUC 0.5239853413633482\n",
      "test_xgb_0.95 whole accuracy 0.8979125047048264\n",
      "test_xgb_0.95 whole ROC AUC 0.9868756807270125\n",
      "0.92\n",
      "0.17595008508224616\n",
      "0.09368974301099539\n",
      "test_xgb_0.92 test accuracy 0.896036966692917\n",
      "test_xgb_0.92 test ROC AUC 0.5318678731651353\n",
      "test_xgb_0.92 whole accuracy 0.8979125047048264\n",
      "test_xgb_0.92 whole ROC AUC 0.9885149487839427\n",
      "0.9\n",
      "0.1910663641520136\n",
      "0.0919711088898204\n",
      "test_xgb_0.9 test accuracy 0.900495668689489\n",
      "test_xgb_0.9 test ROC AUC 0.5514618280069736\n",
      "test_xgb_0.9 whole accuracy 0.8979125047048264\n",
      "test_xgb_0.9 whole ROC AUC 0.9912779314692453\n",
      "0.8\n",
      "0.2818207600680658\n",
      "0.08165285525424822\n",
      "test_xgb_0.8 test accuracy 0.8977162180942234\n",
      "test_xgb_0.8 test ROC AUC 0.5981725434512912\n",
      "test_xgb_0.8 whole accuracy 0.8979125047048264\n",
      "test_xgb_0.8 whole ROC AUC 0.9935438260306151\n",
      "0.6\n",
      "0.46531480431083383\n",
      "0.06079063618482572\n",
      "test_xgb_0.6 test accuracy 0.8989901329503868\n",
      "test_xgb_0.6 test ROC AUC 0.7023018036578932\n",
      "test_xgb_0.6 whole accuracy 0.8987405541561713\n",
      "test_xgb_0.6 whole ROC AUC 0.9947561882773293\n",
      "0.4\n",
      "0.6419171866137267\n",
      "0.04071195950085448\n",
      "test_xgb_0.4 test accuracy 0.9173924120998749\n",
      "test_xgb_0.4 test ROC AUC 0.7977700926552924\n",
      "test_xgb_0.4 whole accuracy 0.9732360519991893\n",
      "test_xgb_0.4 whole ROC AUC 0.9952123093257931\n",
      "0.2\n",
      "0.8212138400453772\n",
      "0.020326959662077194\n",
      "test_xgb_0.2 test accuracy 0.9473988974845972\n",
      "test_xgb_0.2 test ROC AUC 0.8908991696363953\n",
      "test_xgb_0.2 whole accuracy 0.9800370595558644\n",
      "test_xgb_0.2 whole ROC AUC 0.9956085359534607\n",
      "0.0\n",
      "1.0\n",
      "0.0\n",
      "test_xgb_0.0 test accuracy 0.9805438458331404\n",
      "test_xgb_0.0 test ROC AUC 0.995627453570823\n",
      "test_xgb_0.0 whole accuracy 0.9812472856770608\n",
      "test_xgb_0.0 whole ROC AUC 0.9959827316757126\n"
     ]
    }
   ],
   "source": [
    "false_rates = [1.0, 0.999, 0.99, 0.98, 0.97, 0.96, 0.95, 0.92, 0.90, 0.8, \n",
    "               0.7, 0.6, 0.5, 0.4, 0.3, 0.2, 0.1, 0.0]\n",
    "auc_true = []\n",
    "auc_test_true = []\n",
    "auc_new = []\n",
    "auc_test_new = []\n",
    "rates = []\n",
    "for false_rate in false_rates:\n",
    "    np.random.seed(random_seed)\n",
    "    y_new = copy(y_true)\n",
    "    np.random.shuffle(y_new[:int(false_rate * y_new.shape[0])])\n",
    "    print(false_rate)\n",
    "    print(y_true[y_new == 1].mean())\n",
    "    print(y_true[y_new == 0].mean())\n",
    "    rates.append(y_true[y_new == 1].mean())\n",
    "    model = train_xgb(X, y_new, \"test_xgb_\" + str(false_rate), random_seed=random_seed)\n",
    "    _, X_test, _, y_test_new = train_test_split(X, y_new, random_state=random_seed)\n",
    "    _, X_test, _, y_test_true = train_test_split(X, y_true, random_state=random_seed)\n",
    "    pred_test = model.predict_proba(X_test)[:, 1]\n",
    "    auc_test_true.append(roc_auc_score(y_test_true, pred_test))\n",
    "    auc_test_new.append(roc_auc_score(y_test_new, pred_test))\n",
    "    y_pred = model.predict_proba(X)[:, 1]\n",
    "    print_results(y_true, y_pred, \"test_xgb_\" + str(false_rate), is_test=False)\n",
    "    auc_true.append(roc_auc_score(y_true, y_pred))    \n",
    "    auc_new.append(roc_auc_score(y_new, y_pred))"
   ]
  },
  {
   "cell_type": "code",
   "execution_count": 73,
   "metadata": {},
   "outputs": [
    {
     "data": {
      "image/png": "[encoded data removed]",
      "text/plain": [
       "<Figure size 504x360 with 1 Axes>"
      ]
     },
     "metadata": {
      "needs_background": "light"
     },
     "output_type": "display_data"
    }
   ],
   "source": [
    "plt.figure(figsize=(7, 5))\n",
    "plt.plot(false_rates, auc_true, 'o', label=\"true y\")\n",
    "plt.plot(false_rates, auc_new, 'o', label=\"generated y\")\n",
    "plt.ylabel(\"ROC AUC\")\n",
    "plt.xlabel(\"Shuffle rate\")\n",
    "plt.legend(loc=3)\n",
    "plt.show()"
   ]
  },
  {
   "cell_type": "code",
   "execution_count": 74,
   "metadata": {},
   "outputs": [
    {
     "data": {
      "image/png": "[encoded data removed]",
      "text/plain": [
       "<Figure size 504x360 with 1 Axes>"
      ]
     },
     "metadata": {
      "needs_background": "light"
     },
     "output_type": "display_data"
    }
   ],
   "source": [
    "plt.figure(figsize=(7, 5))\n",
    "plt.plot(false_rates, auc_test_true, 'o', label=\"true y\")\n",
    "plt.plot(false_rates, auc_test_new, 'o', label=\"generated y\")\n",
    "plt.ylabel(\"ROC AUC\")\n",
    "plt.xlabel(\"Shuffle rate\")\n",
    "plt.legend(loc=3)\n",
    "plt.show()"
   ]
  },
  {
   "cell_type": "code",
   "execution_count": 124,
   "metadata": {
    "scrolled": false
   },
   "outputs": [
    {
     "name": "stdout",
     "output_type": "stream",
     "text": [
      "leg_2_DPFTau_2016_v1tauVSall\n",
      "number of 1s in new y: 47623\n",
      "number of 1s in true y: 35260.0\n",
      "probability of 1 if new y is 1: 0.6173907565672049\n",
      "probability of 1 if new y is 0: 0.019673100108474076\n",
      "xgb_on_new_leg_2_DPFTau_2016_v1tauVSall test accuracy 0.9230671237318757\n",
      "xgb_on_new_leg_2_DPFTau_2016_v1tauVSall test ROC AUC 0.9052855278564549\n",
      "xgb_on_true_leg_2_DPFTau_2016_v1tauVSall whole accuracy 0.9815541851240627\n",
      "xgb_on_true_leg_2_DPFTau_2016_v1tauVSall whole ROC AUC 0.9867371762877912\n",
      "leg_2_byCombinedIsolationDeltaBetaCorrRaw3Hits\n",
      "number of 1s in new y: 144684\n",
      "number of 1s in true y: 35260.0\n",
      "probability of 1 if new y is 1: 0.0\n",
      "probability of 1 if new y is 0: 0.17567985012904447\n",
      "xgb_on_new_leg_2_byCombinedIsolationDeltaBetaCorrRaw3Hits test accuracy 0.9981817760689303\n",
      "xgb_on_new_leg_2_byCombinedIsolationDeltaBetaCorrRaw3Hits test ROC AUC 0.9999669502264914\n",
      "xgb_on_true_leg_2_byCombinedIsolationDeltaBetaCorrRaw3Hits whole accuracy 0.47955933871855005\n",
      "xgb_on_true_leg_2_byCombinedIsolationDeltaBetaCorrRaw3Hits whole ROC AUC 0.07366953388565818\n",
      "leg_2_byIsolationMVArun2v1DBnewDMwLTraw2017v2\n",
      "number of 1s in new y: 58820\n",
      "number of 1s in true y: 35260.0\n",
      "probability of 1 if new y is 1: 0.5876402584155049\n",
      "probability of 1 if new y is 0: 0.0024252364169312906\n",
      "xgb_on_new_leg_2_byIsolationMVArun2v1DBnewDMwLTraw2017v2 test accuracy 0.9766294529114745\n",
      "xgb_on_new_leg_2_byIsolationMVArun2v1DBnewDMwLTraw2017v2 test ROC AUC 0.9963349658001052\n",
      "xgb_on_true_leg_2_byIsolationMVArun2v1DBnewDMwLTraw2017v2 whole accuracy 0.9363096789136918\n",
      "xgb_on_true_leg_2_byIsolationMVArun2v1DBnewDMwLTraw2017v2 whole ROC AUC 0.9941416372900836\n",
      "leg_2_chargedIsoPtSum\n",
      "number of 1s in new y: 115468\n",
      "number of 1s in true y: 35260.0\n",
      "probability of 1 if new y is 1: 0.0\n",
      "probability of 1 if new y is 0: 0.15335635563364966\n",
      "xgb_on_new_leg_2_chargedIsoPtSum test accuracy 0.9554708852550146\n",
      "xgb_on_new_leg_2_chargedIsoPtSum test ROC AUC 0.992559207597788\n",
      "xgb_on_true_leg_2_chargedIsoPtSum whole accuracy 0.5682764411245259\n",
      "xgb_on_true_leg_2_chargedIsoPtSum whole ROC AUC 0.1033845298512495\n",
      "leg_2_decayDistMag\n",
      "number of 1s in new y: 74613\n",
      "number of 1s in true y: 35260.0\n",
      "probability of 1 if new y is 1: 0.03869298915738544\n",
      "probability of 1 if new y is 0: 0.11955594455954531\n",
      "xgb_on_new_leg_2_decayDistMag test accuracy 0.9187473942650669\n",
      "xgb_on_new_leg_2_decayDistMag test ROC AUC 0.9699977795375738\n",
      "xgb_on_true_leg_2_decayDistMag whole accuracy 0.7241466168678885\n",
      "xgb_on_true_leg_2_decayDistMag whole ROC AUC 0.2376218196716547\n",
      "leg_2_decayMode\n",
      "number of 1s in new y: 248376\n",
      "number of 1s in true y: 35260.0\n",
      "probability of 1 if new y is 1: 0.04056350049924308\n",
      "probability of 1 if new y is 0: 0.259601706970128\n",
      "xgb_on_new_leg_2_decayMode test accuracy 0.9894033446055497\n",
      "xgb_on_new_leg_2_decayMode test ROC AUC 0.9992144252829233\n",
      "xgb_on_true_leg_2_decayMode whole accuracy 0.23965662005269406\n",
      "xgb_on_true_leg_2_decayMode whole ROC AUC 0.21368420451241066\n",
      "leg_2_deepTau2017v1tauVSall\n",
      "number of 1s in new y: 49915\n",
      "number of 1s in true y: 35260.0\n",
      "probability of 1 if new y is 1: 0.6871681859160573\n",
      "probability of 1 if new y is 0: 0.0032490058380573654\n",
      "xgb_on_new_leg_2_deepTau2017v1tauVSall test accuracy 0.9973247788020568\n",
      "xgb_on_new_leg_2_deepTau2017v1tauVSall test ROC AUC 0.9999058961180316\n",
      "xgb_on_true_leg_2_deepTau2017v1tauVSall whole accuracy 0.9521844871015374\n",
      "xgb_on_true_leg_2_deepTau2017v1tauVSall whole ROC AUC 0.9871756433120036\n",
      "leg_2_deepTau2017v1tauVSjet\n",
      "number of 1s in new y: 50717\n",
      "number of 1s in true y: 35260.0\n",
      "probability of 1 if new y is 1: 0.6844450578701422\n",
      "probability of 1 if new y is 0: 0.0018562949438869526\n",
      "xgb_on_new_leg_2_deepTau2017v1tauVSjet test accuracy 0.9982744244221059\n",
      "xgb_on_new_leg_2_deepTau2017v1tauVSjet test ROC AUC 0.9997486654363386\n",
      "xgb_on_true_leg_2_deepTau2017v1tauVSjet whole accuracy 0.9529054112742118\n",
      "xgb_on_true_leg_2_deepTau2017v1tauVSjet whole ROC AUC 0.9871245433935918\n",
      "leg_2_dxy\n",
      "number of 1s in new y: 173188\n",
      "number of 1s in true y: 35260.0\n",
      "probability of 1 if new y is 1: 0.10194124304224311\n",
      "probability of 1 if new y is 0: 0.10223458496416998\n",
      "xgb_on_new_leg_2_dxy test accuracy 0.5054430907490619\n",
      "xgb_on_new_leg_2_dxy test ROC AUC 0.5099147921517039\n",
      "xgb_on_true_leg_2_dxy whole accuracy 0.4802281478907901\n",
      "xgb_on_true_leg_2_dxy whole ROC AUC 0.4293068427436949\n",
      "leg_2_dxy_Sig\n",
      "number of 1s in new y: 145993\n",
      "number of 1s in true y: 35260.0\n",
      "probability of 1 if new y is 1: 0.1425684793106519\n",
      "probability of 1 if new y is 0: 0.07244843202254798\n",
      "xgb_on_new_leg_2_dxy_Sig test accuracy 0.7649742900819938\n",
      "xgb_on_new_leg_2_dxy_Sig test ROC AUC 0.8273039608065176\n",
      "xgb_on_true_leg_2_dxy_Sig whole accuracy 0.6273111555053708\n",
      "xgb_on_true_leg_2_dxy_Sig whole ROC AUC 0.7001284047918792\n",
      "leg_2_eRatio\n",
      "number of 1s in new y: 157136\n",
      "number of 1s in true y: 35260.0\n",
      "probability of 1 if new y is 1: 0.1385424091233072\n",
      "probability of 1 if new y is 0: 0.07165850393617135\n",
      "xgb_on_new_leg_2_eRatio test accuracy 0.8052531616250521\n",
      "xgb_on_new_leg_2_eRatio test ROC AUC 0.8950251741484692\n",
      "xgb_on_true_leg_2_eRatio whole accuracy 0.6261154057731839\n",
      "xgb_on_true_leg_2_eRatio whole ROC AUC 0.6524318303639305\n",
      "leg_2_flightLengthSig\n",
      "number of 1s in new y: 206198\n",
      "number of 1s in true y: 35260.0\n",
      "probability of 1 if new y is 1: 0.053982094879678755\n",
      "probability of 1 if new y is 0: 0.17335047991263866\n",
      "xgb_on_new_leg_2_flightLengthSig test accuracy 0.9360842173530366\n",
      "xgb_on_new_leg_2_flightLengthSig test ROC AUC 0.9875853948713346\n",
      "xgb_on_true_leg_2_flightLengthSig whole accuracy 0.37144966559541387\n",
      "xgb_on_true_leg_2_flightLengthSig whole ROC AUC 0.26424298076270103\n",
      "leg_2_gjAngleDiff\n",
      "number of 1s in new y: 231101\n",
      "number of 1s in true y: 35260.0\n",
      "probability of 1 if new y is 1: 0.03183889295156663\n",
      "probability of 1 if new y is 0: 0.24413548110491823\n",
      "xgb_on_new_leg_2_gjAngleDiff test accuracy 0.9998957706026775\n",
      "xgb_on_new_leg_2_gjAngleDiff test ROC AUC 0.9999419179827419\n",
      "xgb_on_true_leg_2_gjAngleDiff whole accuracy 0.27131648281652626\n",
      "xgb_on_true_leg_2_gjAngleDiff whole ROC AUC 0.17808065091690548\n",
      "leg_2_hasSecondaryVertex\n",
      "number of 1s in new y: 266151\n",
      "number of 1s in true y: 35260.0\n",
      "probability of 1 if new y is 1: 0.04424931711697495\n",
      "probability of 1 if new y is 0: 0.29635659208218174\n",
      "xgb_on_new_leg_2_hasSecondaryVertex test accuracy 1.0\n",
      "xgb_on_new_leg_2_hasSecondaryVertex test ROC AUC 1.0\n",
      "xgb_on_true_leg_2_hasSecondaryVertex whole accuracy 0.19552679579605664\n",
      "xgb_on_true_leg_2_hasSecondaryVertex whole ROC AUC 0.25689360475129824\n",
      "leg_2_ip3d\n",
      "number of 1s in new y: 344968\n",
      "number of 1s in true y: 35260.0\n",
      "probability of 1 if new y is 1: 0.10162681755988962\n",
      "probability of 1 if new y is 0: 0.4786729857819905\n",
      "xgb_on_new_leg_2_ip3d test accuracy 1.0\n",
      "xgb_on_new_leg_2_ip3d test ROC AUC 1.0\n",
      "xgb_on_true_leg_2_ip3d whole accuracy 0.10213961029560786\n",
      "xgb_on_true_leg_2_ip3d whole ROC AUC 0.16323355529698555\n",
      "leg_2_nPhoton\n",
      "number of 1s in new y: 160859\n",
      "number of 1s in true y: 35260.0\n",
      "probability of 1 if new y is 1: 0.0008392443071261167\n",
      "probability of 1 if new y is 0: 0.1903474213004861\n",
      "xgb_on_new_leg_2_nPhoton test accuracy 0.7894797794969194\n",
      "xgb_on_new_leg_2_nPhoton test ROC AUC 0.876294230053111\n",
      "xgb_on_true_leg_2_nPhoton whole accuracy 0.3287530038507195\n",
      "xgb_on_true_leg_2_nPhoton whole ROC AUC 0.02545655515182104\n",
      "leg_2_neutralIsoPtSum\n",
      "number of 1s in new y: 137893\n",
      "number of 1s in true y: 35260.0\n",
      "probability of 1 if new y is 1: 0.0\n",
      "probability of 1 if new y is 0: 0.16993016766507468\n",
      "xgb_on_new_leg_2_neutralIsoPtSum test accuracy 0.9968267939037384\n",
      "xgb_on_new_leg_2_neutralIsoPtSum test ROC AUC 0.9999150508492718\n",
      "xgb_on_true_leg_2_neutralIsoPtSum whole accuracy 0.49680361330669676\n",
      "xgb_on_true_leg_2_neutralIsoPtSum whole ROC AUC 0.13571249433411442\n",
      "leg_2_photonPtSumOutsideSignalCone\n",
      "number of 1s in new y: 31374\n",
      "number of 1s in true y: 35260.0\n",
      "probability of 1 if new y is 1: 0.008223369669152802\n",
      "probability of 1 if new y is 0: 0.11146565780087639\n",
      "xgb_on_new_leg_2_photonPtSumOutsideSignalCone test accuracy 0.9779149488117849\n",
      "xgb_on_new_leg_2_photonPtSumOutsideSignalCone test ROC AUC 0.9946988450198597\n",
      "xgb_on_true_leg_2_photonPtSumOutsideSignalCone whole accuracy 0.8079185847882104\n",
      "xgb_on_true_leg_2_photonPtSumOutsideSignalCone whole ROC AUC 0.5501475813328349\n",
      "leg_2_ptWeightedDetaStrip\n",
      "number of 1s in new y: 129573\n",
      "number of 1s in true y: 35260.0\n",
      "probability of 1 if new y is 1: 0.02904154414885817\n",
      "probability of 1 if new y is 0: 0.1459430906740433\n"
     ]
    },
    {
     "name": "stdout",
     "output_type": "stream",
     "text": [
      "xgb_on_new_leg_2_ptWeightedDetaStrip test accuracy 0.9138254505026173\n",
      "xgb_on_new_leg_2_ptWeightedDetaStrip test ROC AUC 0.9741982995104564\n",
      "xgb_on_true_leg_2_ptWeightedDetaStrip whole accuracy 0.5442311589797041\n",
      "xgb_on_true_leg_2_ptWeightedDetaStrip whole ROC AUC 0.2169850127256206\n",
      "leg_2_ptWeightedDphiStrip\n",
      "number of 1s in new y: 141952\n",
      "number of 1s in true y: 35260.0\n",
      "probability of 1 if new y is 1: 0.04316247745716862\n",
      "probability of 1 if new y is 0: 0.14320333467690402\n",
      "xgb_on_new_leg_2_ptWeightedDphiStrip test accuracy 0.89489044332237\n",
      "xgb_on_new_leg_2_ptWeightedDphiStrip test ROC AUC 0.9668447324060669\n",
      "xgb_on_true_leg_2_ptWeightedDphiStrip whole accuracy 0.5305886099771273\n",
      "xgb_on_true_leg_2_ptWeightedDphiStrip whole ROC AUC 0.24049881351788527\n",
      "leg_2_ptWeightedDrIsolation\n",
      "number of 1s in new y: 162203\n",
      "number of 1s in true y: 35260.0\n",
      "probability of 1 if new y is 1: 0.05479553399135651\n",
      "probability of 1 if new y is 0: 0.14396218072243117\n",
      "xgb_on_new_leg_2_ptWeightedDrIsolation test accuracy 0.9570806503914393\n",
      "xgb_on_new_leg_2_ptWeightedDrIsolation test ROC AUC 0.9925691586611692\n",
      "xgb_on_true_leg_2_ptWeightedDrIsolation whole accuracy 0.4705492341990214\n",
      "xgb_on_true_leg_2_ptWeightedDrIsolation whole ROC AUC 0.24762029761219012\n",
      "leg_2_ptWeightedDrSignal\n",
      "number of 1s in new y: 75431\n",
      "number of 1s in true y: 35260.0\n",
      "probability of 1 if new y is 1: 0.21497792684705228\n",
      "probability of 1 if new y is 0: 0.07054404557729137\n",
      "xgb_on_new_leg_2_ptWeightedDrSignal test accuracy 0.941816834205772\n",
      "xgb_on_new_leg_2_ptWeightedDrSignal test ROC AUC 0.9828938352992143\n",
      "xgb_on_true_leg_2_ptWeightedDrSignal whole accuracy 0.7624511421870929\n",
      "xgb_on_true_leg_2_ptWeightedDrSignal whole ROC AUC 0.7630565952169912\n",
      "leg_2_puCorrPtSum\n",
      "number of 1s in new y: 119783\n",
      "number of 1s in true y: 35260.0\n",
      "probability of 1 if new y is 1: 0.07107853368174115\n",
      "probability of 1 if new y is 0: 0.11855128608598138\n",
      "xgb_on_new_leg_2_puCorrPtSum test accuracy 0.662146199101311\n",
      "xgb_on_new_leg_2_puCorrPtSum test ROC AUC 0.6437051798765552\n",
      "xgb_on_true_leg_2_puCorrPtSum whole accuracy 0.8421436636845305\n",
      "xgb_on_true_leg_2_puCorrPtSum whole ROC AUC 0.19023994704140224\n"
     ]
    }
   ],
   "source": [
    "auc_true_cols = {}\n",
    "auc_new_cols = {}\n",
    "for i, col in enumerate(data_dict['feature_names']):\n",
    "    print(col)\n",
    "    np.random.seed(random_seed)\n",
    "    y_new = (X[:, i] > X[:, i].mean()).astype(int)\n",
    "    X_tmp = np.delete(X, [i], axis=1)\n",
    "    print(\"number of 1s in new y:\", y_new.sum())\n",
    "    print(\"number of 1s in true y:\", y_true.sum())\n",
    "    print(\"probability of 1 if new y is 1:\", y_true[y_new == 1].mean())\n",
    "    print(\"probability of 1 if new y is 0:\", y_true[y_new == 0].mean())\n",
    "    model = train_xgb(X_tmp, y_new, \"xgb_on_new_\" + col, random_seed=random_seed)\n",
    "#     _, X_test, _, y_test_new = train_test_split(X, y_new, random_state=random_seed)\n",
    "#     _, X_test, _, y_test_true = train_test_split(X, y_true, random_state=random_seed)\n",
    "#     pred_test = model.predict_proba(X_test)[:, 1]\n",
    "#     auc_test_true.append(roc_auc_score(y_test_true, pred_test))\n",
    "#     auc_test_new.append(roc_auc_score(y_test_new, pred_test))\n",
    "    y_pred = model.predict_proba(X_tmp)[:, 1]\n",
    "    print_results(y_true, y_pred, \"xgb_on_true_\" + col, is_test=False)\n",
    "    auc_true_cols[col] = roc_auc_score(y_true, y_pred)   \n",
    "    auc_new_cols[col] = roc_auc_score(y_new, y_pred)"
   ]
  },
  {
   "cell_type": "code",
   "execution_count": 125,
   "metadata": {},
   "outputs": [
    {
     "data": {
      "image/png": "[encoded data removed]",
      "text/plain": [
       "<Figure size 432x288 with 1 Axes>"
      ]
     },
     "metadata": {
      "needs_background": "light"
     },
     "output_type": "display_data"
    }
   ],
   "source": [
    "plt.plot(auc_true_cols.keys(), auc_true_cols.values(), 'o', \n",
    "         auc_true_cols.keys(), 1 - np.array(list(auc_true_cols.values())), 'o')\n",
    "plt.xticks(rotation=90)\n",
    "plt.ylabel(\"ROC AUC\")\n",
    "plt.show()"
   ]
  },
  {
   "cell_type": "code",
   "execution_count": 127,
   "metadata": {},
   "outputs": [
    {
     "name": "stdout",
     "output_type": "stream",
     "text": [
      "number of 1s in new y: 58820\n",
      "number of 1s in true y: 35260.0\n",
      "probability of 1 if new y is 1: 0.5876402584155049\n",
      "probability of 1 if new y is 0: 0.0024252364169312906\n",
      "xgb_on_new_leg_2_byIsolationMVArun2v1DBnewDMwLTraw2017v2 test accuracy 0.9766294529114745\n",
      "xgb_on_new_leg_2_byIsolationMVArun2v1DBnewDMwLTraw2017v2 test ROC AUC 0.9963349658001052\n",
      "xgb_on_true_leg_2_byIsolationMVArun2v1DBnewDMwLTraw2017v2 whole accuracy 0.9363096789136918\n",
      "xgb_on_true_leg_2_byIsolationMVArun2v1DBnewDMwLTraw2017v2 whole ROC AUC 0.9941416372900836\n"
     ]
    }
   ],
   "source": [
    "col = \"leg_2_byIsolationMVArun2v1DBnewDMwLTraw2017v2\"\n",
    "i = 2\n",
    "np.random.seed(random_seed)\n",
    "y_new = (X[:, i] > X[:, i].mean()).astype(int)\n",
    "X_tmp = np.delete(X, [i], axis=1)\n",
    "print(\"number of 1s in new y:\", y_new.sum())\n",
    "print(\"number of 1s in true y:\", y_true.sum())\n",
    "print(\"probability of 1 if new y is 1:\", y_true[y_new == 1].mean())\n",
    "print(\"probability of 1 if new y is 0:\", y_true[y_new == 0].mean())\n",
    "model = train_xgb(X_tmp, y_new, \"xgb_on_new_\" + col, random_seed=random_seed)\n",
    "y_pred = model.predict_proba(X_tmp)[:, 1]\n",
    "print_results(y_true, y_pred, \"xgb_on_true_\" + col, is_test=False)"
   ]
  },
  {
   "cell_type": "code",
   "execution_count": 130,
   "metadata": {},
   "outputs": [
    {
     "name": "stdout",
     "output_type": "stream",
     "text": [
      "ROC AUC score for old:  0.992395033222944\n",
      "ROC AUC score for new:  0.9941416372900836\n"
     ]
    },
    {
     "data": {
      "text/plain": [
       "<matplotlib.legend.Legend at 0x7fb07da957f0>"
      ]
     },
     "execution_count": 130,
     "metadata": {},
     "output_type": "execute_result"
    },
    {
     "data": {
      "image/png": "[encoded data removed]",
      "text/plain": [
       "<Figure size 432x288 with 1 Axes>"
      ]
     },
     "metadata": {
      "needs_background": "light"
     },
     "output_type": "display_data"
    }
   ],
   "source": [
    "print('ROC AUC score for old: ', roc_auc_score(y_true, X[:, i]))\n",
    "print('ROC AUC score for new: ', roc_auc_score(y_true, y_pred))\n",
    "roc = roc_curve(y_true, y_pred)\n",
    "plt.semilogy(roc[1], roc[0], linewidth=2, label=\"new\")\n",
    "roc = roc_curve(y_true, X[:, i])\n",
    "plt.semilogy(roc[1], roc[0], linewidth=2, label=\"old\")\n",
    "# plt.xlim((0.2, 0.8))\n",
    "# plt.ylim((1e-5, 1e-2))\n",
    "plt.ylabel('False Positive Rate')\n",
    "plt.xlabel('True Positive Rate')\n",
    "plt.legend()"
   ]
  },
  {
   "cell_type": "code",
   "execution_count": 131,
   "metadata": {},
   "outputs": [
    {
     "data": {
      "text/plain": [
       "['leg_2_DPFTau_2016_v1tauVSall',\n",
       " 'leg_2_byCombinedIsolationDeltaBetaCorrRaw3Hits',\n",
       " 'leg_2_byIsolationMVArun2v1DBnewDMwLTraw2017v2',\n",
       " 'leg_2_chargedIsoPtSum',\n",
       " 'leg_2_decayDistMag',\n",
       " 'leg_2_decayMode',\n",
       " 'leg_2_deepTau2017v1tauVSall',\n",
       " 'leg_2_deepTau2017v1tauVSjet',\n",
       " 'leg_2_dxy',\n",
       " 'leg_2_dxy_Sig',\n",
       " 'leg_2_eRatio',\n",
       " 'leg_2_flightLengthSig',\n",
       " 'leg_2_gjAngleDiff',\n",
       " 'leg_2_hasSecondaryVertex',\n",
       " 'leg_2_ip3d',\n",
       " 'leg_2_nPhoton',\n",
       " 'leg_2_neutralIsoPtSum',\n",
       " 'leg_2_photonPtSumOutsideSignalCone',\n",
       " 'leg_2_ptWeightedDetaStrip',\n",
       " 'leg_2_ptWeightedDphiStrip',\n",
       " 'leg_2_ptWeightedDrIsolation',\n",
       " 'leg_2_ptWeightedDrSignal',\n",
       " 'leg_2_puCorrPtSum']"
      ]
     },
     "execution_count": 131,
     "metadata": {},
     "output_type": "execute_result"
    }
   ],
   "source": [
    "data_dict['feature_names']"
   ]
  },
  {
   "cell_type": "code",
   "execution_count": null,
   "metadata": {},
   "outputs": [],
   "source": []
  }
 ],
 "metadata": {
  "kernelspec": {
   "display_name": "licencjat",
   "language": "python",
   "name": "licencjat"
  },
  "language_info": {
   "codemirror_mode": {
    "name": "ipython",
    "version": 3
   },
   "file_extension": ".py",
   "mimetype": "text/x-python",
   "name": "python",
   "nbconvert_exporter": "python",
   "pygments_lexer": "ipython3",
   "version": "3.6.6"
  }
 },
 "nbformat": 4,
 "nbformat_minor": 2
}
