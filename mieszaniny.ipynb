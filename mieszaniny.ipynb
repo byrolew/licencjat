{
 "cells": [
  {
   "cell_type": "code",
   "execution_count": 20,
   "metadata": {},
   "outputs": [],
   "source": [
    "import os\n",
    "import random as rn\n",
    "from copy import copy\n",
    "\n",
    "import numpy as np\n",
    "import tensorflow as tf\n",
    "import matplotlib.pyplot as plt\n",
    "\n",
    "from model_utils import *\n",
    "from preprocess import preprocess"
   ]
  },
  {
   "cell_type": "code",
   "execution_count": 2,
   "metadata": {},
   "outputs": [],
   "source": [
    "random_seed = 12345\n",
    "np.random.seed(random_seed)\n",
    "set_seed_global(random_seed)"
   ]
  },
  {
   "cell_type": "code",
   "execution_count": 3,
   "metadata": {},
   "outputs": [],
   "source": [
    "filename = \"htt_features_test.pkl\"\n",
    "data_dict = preprocess(filename, enable_dicriminators=False, random_seed=random_seed)"
   ]
  },
  {
   "cell_type": "code",
   "execution_count": 71,
   "metadata": {},
   "outputs": [],
   "source": [
    "y_true = data_dict[\"labels\"][:]\n",
    "X = data_dict[\"features\"][:]"
   ]
  },
  {
   "cell_type": "code",
   "execution_count": 72,
   "metadata": {
    "scrolled": true
   },
   "outputs": [
    {
     "name": "stdout",
     "output_type": "stream",
     "text": [
      "1.0\n",
      "0.10212705615428247\n",
      "0.10208299745268114\n",
      "test_xgb_1.0 test accuracy 0.8986427016259786\n",
      "test_xgb_1.0 test ROC AUC 0.49965374685840586\n",
      "test_xgb_1.0 whole accuracy 0.8979125047048264\n",
      "test_xgb_1.0 whole ROC AUC 0.42356405166230493\n",
      "0.999\n",
      "0.100850822461713\n",
      "0.10222809789443137\n",
      "test_xgb_0.999 test accuracy 0.8983184323898643\n",
      "test_xgb_0.999 test ROC AUC 0.500595723901832\n",
      "test_xgb_0.999 whole accuracy 0.8979096094270245\n",
      "test_xgb_0.999 whole ROC AUC 0.42122547729833315\n",
      "0.99\n",
      "0.1133862733976177\n",
      "0.10080288911101797\n",
      "test_xgb_0.99 test accuracy 0.898376337610599\n",
      "test_xgb_0.99 test ROC AUC 0.5059718651924703\n",
      "test_xgb_0.99 whole accuracy 0.8979096094270245\n",
      "test_xgb_0.99 whole ROC AUC 0.8929996175281479\n",
      "0.98\n",
      "0.1207033465683494\n",
      "0.09997097991164995\n",
      "test_xgb_0.98 test accuracy 0.8991985917450317\n",
      "test_xgb_0.98 test ROC AUC 0.5091194229337065\n",
      "test_xgb_0.98 whole accuracy 0.8979125047048264\n",
      "test_xgb_0.98 whole ROC AUC 0.9321507107178209\n",
      "0.97\n",
      "0.1287861599546228\n",
      "0.0990520104472318\n",
      "test_xgb_0.97 test accuracy 0.8988974845972113\n",
      "test_xgb_0.97 test ROC AUC 0.5022852549495123\n",
      "test_xgb_0.97 whole accuracy 0.8979125047048264\n",
      "test_xgb_0.97 whole ROC AUC 0.9752595222039159\n",
      "0.96\n",
      "0.1378899602949518\n",
      "0.09801696062941347\n",
      "test_xgb_0.96 test accuracy 0.8975888266086071\n",
      "test_xgb_0.96 test ROC AUC 0.5139571301309821\n",
      "test_xgb_0.96 whole accuracy 0.8979125047048264\n",
      "test_xgb_0.96 whole ROC AUC 0.9658293463709315\n",
      "0.95\n",
      "0.14980147475893363\n",
      "0.09666268983974462\n",
      "test_xgb_0.95 test accuracy 0.8978667716681336\n",
      "test_xgb_0.95 test ROC AUC 0.5239853413633482\n",
      "test_xgb_0.95 whole accuracy 0.8979125047048264\n",
      "test_xgb_0.95 whole ROC AUC 0.9868756807270125\n",
      "0.92\n",
      "0.17595008508224616\n",
      "0.09368974301099539\n",
      "test_xgb_0.92 test accuracy 0.896036966692917\n",
      "test_xgb_0.92 test ROC AUC 0.5318678731651353\n",
      "test_xgb_0.92 whole accuracy 0.8979125047048264\n",
      "test_xgb_0.92 whole ROC AUC 0.9885149487839427\n",
      "0.9\n",
      "0.1910663641520136\n",
      "0.0919711088898204\n",
      "test_xgb_0.9 test accuracy 0.900495668689489\n",
      "test_xgb_0.9 test ROC AUC 0.5514618280069736\n",
      "test_xgb_0.9 whole accuracy 0.8979125047048264\n",
      "test_xgb_0.9 whole ROC AUC 0.9912779314692453\n",
      "0.8\n",
      "0.2818207600680658\n",
      "0.08165285525424822\n",
      "test_xgb_0.8 test accuracy 0.8977162180942234\n",
      "test_xgb_0.8 test ROC AUC 0.5981725434512912\n",
      "test_xgb_0.8 whole accuracy 0.8979125047048264\n",
      "test_xgb_0.8 whole ROC AUC 0.9935438260306151\n",
      "0.6\n",
      "0.46531480431083383\n",
      "0.06079063618482572\n",
      "test_xgb_0.6 test accuracy 0.8989901329503868\n",
      "test_xgb_0.6 test ROC AUC 0.7023018036578932\n",
      "test_xgb_0.6 whole accuracy 0.8987405541561713\n",
      "test_xgb_0.6 whole ROC AUC 0.9947561882773293\n",
      "0.4\n",
      "0.6419171866137267\n",
      "0.04071195950085448\n",
      "test_xgb_0.4 test accuracy 0.9173924120998749\n",
      "test_xgb_0.4 test ROC AUC 0.7977700926552924\n",
      "test_xgb_0.4 whole accuracy 0.9732360519991893\n",
      "test_xgb_0.4 whole ROC AUC 0.9952123093257931\n",
      "0.2\n",
      "0.8212138400453772\n",
      "0.020326959662077194\n",
      "test_xgb_0.2 test accuracy 0.9473988974845972\n",
      "test_xgb_0.2 test ROC AUC 0.8908991696363953\n",
      "test_xgb_0.2 whole accuracy 0.9800370595558644\n",
      "test_xgb_0.2 whole ROC AUC 0.9956085359534607\n",
      "0.0\n",
      "1.0\n",
      "0.0\n",
      "test_xgb_0.0 test accuracy 0.9805438458331404\n",
      "test_xgb_0.0 test ROC AUC 0.995627453570823\n",
      "test_xgb_0.0 whole accuracy 0.9812472856770608\n",
      "test_xgb_0.0 whole ROC AUC 0.9959827316757126\n"
     ]
    }
   ],
   "source": [
    "# false_rate = 0.9\n",
    "# false_rates = 1 - np.exp(-np.arange(0, 10, 1))\n",
    "# print(false_rates)\n",
    "false_rates = [1.0, 0.999, 0.99, 0.98, 0.97, 0.96, 0.95, 0.92, 0.90, 0.8, \n",
    "               0.7, 0.6, 0.5, 0.4, 0.3, 0.2, 0.1, 0.0]\n",
    "auc_true = []\n",
    "auc_test_true = []\n",
    "auc_new = []\n",
    "auc_test_new = []\n",
    "rates = []\n",
    "for false_rate in false_rates:\n",
    "    np.random.seed(random_seed)\n",
    "    y_new = copy(y_true)\n",
    "    np.random.shuffle(y_new[:int(false_rate * y_new.shape[0])])\n",
    "    print(false_rate)\n",
    "    print(y_true[y_new == 1].mean())\n",
    "    print(y_true[y_new == 0].mean())\n",
    "    rates.append(y_true[y_new == 1].mean())\n",
    "    model = train_xgb(X, y_new, \"test_xgb_\" + str(false_rate), random_seed=random_seed)\n",
    "    _, X_test, _, y_test_new = train_test_split(X, y_new, random_state=random_seed)\n",
    "    _, X_test, _, y_test_true = train_test_split(X, y_true, random_state=random_seed)\n",
    "    pred_test = model.predict_proba(X_test)[:, 1]\n",
    "    auc_test_true.append(roc_auc_score(y_test_true, pred_test))\n",
    "    auc_test_new.append(roc_auc_score(y_test_new, pred_test))\n",
    "    y_pred = model.predict_proba(X)[:, 1]\n",
    "    print_results(y_true, y_pred, \"test_xgb_\" + str(false_rate), is_test=False)\n",
    "    auc_true.append(roc_auc_score(y_true, y_pred))    \n",
    "    auc_new.append(roc_auc_score(y_new, y_pred))"
   ]
  },
  {
   "cell_type": "code",
   "execution_count": 73,
   "metadata": {},
   "outputs": [
    {
     "data": {
      "image/png": "[encoded data removed]",
      "text/plain": [
       "<Figure size 504x360 with 1 Axes>"
      ]
     },
     "metadata": {
      "needs_background": "light"
     },
     "output_type": "display_data"
    }
   ],
   "source": [
    "plt.figure(figsize=(7, 5))\n",
    "plt.plot(false_rates, auc_true, 'o', label=\"true y\")\n",
    "plt.plot(false_rates, auc_new, 'o', label=\"generated y\")\n",
    "plt.ylabel(\"ROC AUC\")\n",
    "plt.xlabel(\"Shuffle rate\")\n",
    "plt.legend(loc=3)\n",
    "plt.show()"
   ]
  },
  {
   "cell_type": "code",
   "execution_count": 74,
   "metadata": {},
   "outputs": [
    {
     "data": {
      "image/png": "[encoded data removed]",
      "text/plain": [
       "<Figure size 504x360 with 1 Axes>"
      ]
     },
     "metadata": {
      "needs_background": "light"
     },
     "output_type": "display_data"
    }
   ],
   "source": [
    "plt.figure(figsize=(7, 5))\n",
    "plt.plot(false_rates, auc_test_true, 'o', label=\"true y\")\n",
    "plt.plot(false_rates, auc_test_new, 'o', label=\"generated y\")\n",
    "plt.ylabel(\"ROC AUC\")\n",
    "plt.xlabel(\"Shuffle rate\")\n",
    "plt.legend(loc=3)\n",
    "plt.show()"
   ]
  },
  {
   "cell_type": "code",
   "execution_count": null,
   "metadata": {},
   "outputs": [],
   "source": []
  }
 ],
 "metadata": {
  "kernelspec": {
   "display_name": "licencjat",
   "language": "python",
   "name": "licencjat"
  },
  "language_info": {
   "codemirror_mode": {
    "name": "ipython",
    "version": 3
   },
   "file_extension": ".py",
   "mimetype": "text/x-python",
   "name": "python",
   "nbconvert_exporter": "python",
   "pygments_lexer": "ipython3",
   "version": "3.6.6"
  }
 },
 "nbformat": 4,
 "nbformat_minor": 2
}
