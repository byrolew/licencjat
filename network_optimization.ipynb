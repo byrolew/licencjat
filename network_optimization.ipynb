{
 "cells": [
  {
   "cell_type": "code",
   "execution_count": 142,
   "metadata": {},
   "outputs": [],
   "source": [
    "from collections import OrderedDict\n",
    "from copy import deepcopy\n",
    "\n",
    "import numpy as np\n",
    "import pandas as pd\n",
    "import tqdm\n",
    "import eli5\n",
    "from eli5.sklearn import PermutationImportance\n",
    "import tensorflow as tf\n",
    "from sklearn.model_selection import KFold\n",
    "from sklearn import preprocessing\n",
    "from keras.layers import Dense, Activation, Dropout, BatchNormalization\n",
    "from keras.models import Input, Model\n",
    "from keras.optimizers import Adam\n",
    "from keras.activations import relu, sigmoid, tanh, selu\n",
    "from keras.losses import binary_crossentropy\n",
    "from keras.callbacks import ReduceLROnPlateau\n",
    "from sklearn.metrics import roc_auc_score, accuracy_score\n",
    "from sklearn.model_selection import train_test_split, RandomizedSearchCV, cross_val_score\n",
    "from xgboost import XGBClassifier\n",
    "from matplotlib import pyplot as plt\n",
    "import seaborn as sns"
   ]
  },
  {
   "cell_type": "code",
   "execution_count": 16,
   "metadata": {},
   "outputs": [],
   "source": [
    "# file_name = '/home/aga/Fizyka/licencjat/htt_features_test.pkl'\n",
    "file_name = '/home/tultul/aga/htt_features_test.pkl'"
   ]
  },
  {
   "cell_type": "code",
   "execution_count": 17,
   "metadata": {},
   "outputs": [],
   "source": [
    "def preprocess(file_name, enable_data=True, enable_dicriminators=True, mask_columns=[]):\n",
    "    legs, jets, global_params, properties = pd.read_pickle(file_name)\n",
    "    properties = OrderedDict(sorted(properties.items(), key=lambda t: t[0]))\n",
    "\n",
    "    #     print(\"no of legs: \", len(legs))\n",
    "    #     print(\"no of jets: \", len(jets))\n",
    "    #     print(\"global params: \", global_params.keys())\n",
    "    #     print(\"object properties:\", properties.keys())\n",
    "\n",
    "    sampleType = np.array(global_params[\"sampleType\"])\n",
    "    sampleType = np.reshape(sampleType, (-1, 1))\n",
    "    features = np.array(list(properties.values()))\n",
    "    features = np.transpose(features)\n",
    "    feature_names = list(properties.keys())\n",
    "\n",
    "    # Redefine DPF output to be 1 for signal\n",
    "    discName = \"leg_2_DPFTau_2016_v1tauVSall\"\n",
    "    DPF_index = feature_names.index(discName)\n",
    "    features[:, DPF_index] *= -1\n",
    "    features[:, DPF_index] += 1\n",
    "    indexes = features[:, DPF_index] > 1\n",
    "    features[indexes, DPF_index] = 0.0\n",
    "    # Filter features to be usedfor training\n",
    "    column_mask = np.full(features.shape[1], enable_data)\n",
    "    oldMVA_discriminators = [\n",
    "        \"leg_2_byIsolationMVArun2v1DBnewDMwLTraw2017v2\",\n",
    "        \"leg_2_DPFTau_2016_v1tauVSall\",\n",
    "        \"leg_2_deepTau2017v1tauVSall\",\n",
    "        \"leg_2_deepTau2017v1tauVSjet\",\n",
    "    ]\n",
    "    for discName in oldMVA_discriminators:\n",
    "        index = feature_names.index(discName)\n",
    "        column_mask[index] = enable_dicriminators\n",
    "    \n",
    "    for col_name in mask_columns:\n",
    "        index = feature_names.index(col_name)\n",
    "        column_mask[index] = False\n",
    "        \n",
    "    features = features[:, column_mask]\n",
    "    not_shuffled_features = deepcopy(features)\n",
    "    not_shuffled_labels = deepcopy(sampleType)\n",
    "\n",
    "    features = np.hstack((sampleType, features))\n",
    "    np.random.shuffle(features)\n",
    "\n",
    "    labels = features[:, 0]\n",
    "    features = features[:, 1:]\n",
    "\n",
    "    print(\"Input data shape:\", features.shape)\n",
    "    print(\"Number of positive examples:\", (labels > 0.5).sum())\n",
    "    print(\"Number of negative examples:\", (labels < 0.5).sum())\n",
    "\n",
    "    assert features.shape[0] == labels.shape[0]\n",
    "\n",
    "    tmp = np.array(feature_names)\n",
    "    tmp = tmp[column_mask]\n",
    "    feature_names = list(tmp)\n",
    "    return features, not_shuffled_features, labels, not_shuffled_labels, feature_names"
   ]
  },
  {
   "cell_type": "code",
   "execution_count": 175,
   "metadata": {},
   "outputs": [],
   "source": [
    "class ModelWrapper:\n",
    "    def __init__(self, **params):\n",
    "        self.deep = params['deep']\n",
    "        self.width = params['width']\n",
    "        self.activation = params['activation']\n",
    "        self.batch_size = params['batch_size']\n",
    "        self.lr = params['lr']\n",
    "        self.batch_norm = params['batch_norm']\n",
    "        self.scheduler = params['scheduler']\n",
    "        self.epochs = params['epochs']\n",
    "        self.dropout = params['dropout']\n",
    "    \n",
    "    def _compile_model(self):\n",
    "        layers = []\n",
    "        for i in range(self.deep):\n",
    "            layers.append(Dense(self.width, activation=self.activation))\n",
    "            if self.batch_norm and i < self.deep - 1:\n",
    "                layers.append(BatchNormalization())\n",
    "            layers.append(Dropout(self.dropout))\n",
    "        layers.append(Dense(1, activation=sigmoid))\n",
    "        \n",
    "        input_dense = Input((self.X_shape[1],))\n",
    "        output = input_dense\n",
    "        for l in layers:\n",
    "            output = l(output)\n",
    "        model = Model(inputs=[input_dense], outputs=output)\n",
    "        model.compile(optimizer=Adam(lr=self.lr, clipvalue=3.0), loss=binary_crossentropy)\n",
    "        self.model = model\n",
    "    \n",
    "    def get_params(self, deep):\n",
    "        return {\n",
    "            'deep': self.deep,\n",
    "            'width': self.width,\n",
    "            'activation': self.activation,\n",
    "            'batch_size': self.batch_size,\n",
    "            'lr': self.lr,\n",
    "            'batch_norm': self.batch_norm,\n",
    "            'epochs': self.epochs,\n",
    "            'scheduler': self.scheduler,\n",
    "            'dropout': self.dropout,\n",
    "        }\n",
    "    \n",
    "    def set_params(self, **params):\n",
    "        self.deep = params['deep']\n",
    "        self.width = params['width']\n",
    "        self.activation = params['activation']\n",
    "        self.batch_size = params['batch_size']\n",
    "        self.lr = params['lr']\n",
    "        self.batch_norm = params['batch_norm']\n",
    "        self.scheduler = params['scheduler']\n",
    "        self.epochs = params['epochs']\n",
    "        self.dropout = params['dropout']\n",
    "    \n",
    "    def fit(self, X, y):\n",
    "        self.X_shape = X.shape\n",
    "        self._compile_model()\n",
    "        self.model.fit(X, y, batch_size=self.batch_size, validation_split=0.2,\n",
    "                       epochs=self.epochs, callbacks=self.scheduler, verbose=0)\n",
    "    \n",
    "    def predict(self, X):\n",
    "        return self.model.predict(X)"
   ]
  },
  {
   "cell_type": "code",
   "execution_count": 171,
   "metadata": {},
   "outputs": [],
   "source": [
    "reduce_lr = ReduceLROnPlateau(monitor='val_loss', factor=0.2, patience=1, min_lr=0.00001)\n",
    "\n",
    "param_dist = {\n",
    "    'deep': [1, 2, 3, 4, 5],\n",
    "    'width': [32, 64, 128, 256, 512],\n",
    "    'activation': [relu, sigmoid, tanh, selu],\n",
    "    'batch_size': [32, 64, 128, 256],\n",
    "    'lr': [0.0001, 0.0005, 0.001, 0.005, 0.01],\n",
    "    'batch_norm': [True, False],\n",
    "    'epochs': [2, 4, 6, 8],\n",
    "    'scheduler': [[reduce_lr], []],\n",
    "    'dropout': [0.0, 0.1, 0.2, 0.3, 0.4, 0.5],\n",
    "}\n",
    "\n",
    "def scorer(estimator, X, y):\n",
    "    pred = estimator.predict(X)\n",
    "    return roc_auc_score(y, pred)"
   ]
  },
  {
   "cell_type": "code",
   "execution_count": 193,
   "metadata": {},
   "outputs": [],
   "source": [
    "all_possibilities = []\n",
    "for d in param_dist['deep']:\n",
    "    for w in param_dist['width']:\n",
    "        for a in param_dist['activation']:\n",
    "            for bs in param_dist['batch_size']:\n",
    "                for lr in param_dist['lr']:\n",
    "                    for bn in param_dist['batch_norm']:\n",
    "                        for e in param_dist['epochs']:\n",
    "                            for s in param_dist['scheduler']:\n",
    "                                for do in param_dist['dropout']:\n",
    "                                    param = {\n",
    "                                        'deep': d,\n",
    "                                        'width': w,\n",
    "                                        'activation': a,\n",
    "                                        'batch_size': bs,\n",
    "                                        'lr': lr,\n",
    "                                        'batch_norm': bn,\n",
    "                                        'epochs': e,\n",
    "                                        'scheduler': s,\n",
    "                                        'dropout': do,\n",
    "                                    }\n",
    "                                    all_possibilities.append(param)"
   ]
  },
  {
   "cell_type": "code",
   "execution_count": 185,
   "metadata": {},
   "outputs": [
    {
     "name": "stdout",
     "output_type": "stream",
     "text": [
      "Input data shape: (345390, 23)\n",
      "Number of positive examples: 35260\n",
      "Number of negative examples: 310130\n"
     ]
    }
   ],
   "source": [
    "features, not_shuffled_features, labels, not_shuffled_labels, feature_names = preprocess(file_name, True, True)"
   ]
  },
  {
   "cell_type": "code",
   "execution_count": 186,
   "metadata": {},
   "outputs": [],
   "source": [
    "model = ModelWrapper(deep=1, width=32, activation=relu, batch_size=32, \n",
    "                     lr=0.001, batch_norm=False, epochs=2, scheduler=[], dropout=0.1)\n",
    "# model.fit(features, labels)"
   ]
  },
  {
   "cell_type": "code",
   "execution_count": 196,
   "metadata": {},
   "outputs": [],
   "source": [
    "remaining_possibilities = deepcopy(all_possibilities)"
   ]
  },
  {
   "cell_type": "code",
   "execution_count": 205,
   "metadata": {},
   "outputs": [
    {
     "data": {
      "text/plain": [
       "191861"
      ]
     },
     "execution_count": 205,
     "metadata": {},
     "output_type": "execute_result"
    }
   ],
   "source": [
    "len(remaining_possibilities)"
   ]
  },
  {
   "cell_type": "code",
   "execution_count": null,
   "metadata": {},
   "outputs": [],
   "source": [
    "n_iter=1000\n",
    "param_list = []\n",
    "scores = []\n",
    "\n",
    "\n",
    "for i in range(n_iter):\n",
    "    params_id = np.random.randint(0, len(remaining_possibilities))\n",
    "    params = remaining_possibilities.pop(params_id)\n",
    "    model.set_params(**params)\n",
    "    cv_scores = cross_val_score(model, features, labels, cv=3, scoring=scorer, n_jobs=5)\n",
    "    param_list.append(params)\n",
    "    scores.append(cv_scores)\n",
    "    with open('params.txt', 'a') as file:\n",
    "        file.write(str(params))\n",
    "        file.write('\\n')\n",
    "        \n",
    "    with open('scores.txt', 'a') as file:\n",
    "        file.write(str(cv_scores))\n",
    "        file.write('\\n')"
   ]
  },
  {
   "cell_type": "code",
   "execution_count": 209,
   "metadata": {},
   "outputs": [],
   "source": [
    "scores_max = np.max(scores, axis=1)"
   ]
  },
  {
   "cell_type": "code",
   "execution_count": 213,
   "metadata": {},
   "outputs": [
    {
     "data": {
      "image/png": "[encoded data removed]",
      "text/plain": [
       "<Figure size 432x288 with 1 Axes>"
      ]
     },
     "metadata": {
      "needs_background": "light"
     },
     "output_type": "display_data"
    },
    {
     "data": {
      "image/png": "[encoded data removed]",
      "text/plain": [
       "<Figure size 432x288 with 1 Axes>"
      ]
     },
     "metadata": {
      "needs_background": "light"
     },
     "output_type": "display_data"
    },
    {
     "data": {
      "image/png": "[encoded data removed]",
      "text/plain": [
       "<Figure size 432x288 with 1 Axes>"
      ]
     },
     "metadata": {
      "needs_background": "light"
     },
     "output_type": "display_data"
    },
    {
     "data": {
      "image/png": "[encoded data removed]",
      "text/plain": [
       "<Figure size 432x288 with 1 Axes>"
      ]
     },
     "metadata": {
      "needs_background": "light"
     },
     "output_type": "display_data"
    },
    {
     "data": {
      "image/png": "[encoded data removed]",
      "text/plain": [
       "<Figure size 432x288 with 1 Axes>"
      ]
     },
     "metadata": {
      "needs_background": "light"
     },
     "output_type": "display_data"
    },
    {
     "data": {
      "image/png": "[encoded data removed]",
      "text/plain": [
       "<Figure size 432x288 with 1 Axes>"
      ]
     },
     "metadata": {
      "needs_background": "light"
     },
     "output_type": "display_data"
    },
    {
     "data": {
      "image/png": "[encoded data removed]",
      "text/plain": [
       "<Figure size 432x288 with 1 Axes>"
      ]
     },
     "metadata": {
      "needs_background": "light"
     },
     "output_type": "display_data"
    },
    {
     "data": {
      "image/png": "[encoded data removed]",
      "text/plain": [
       "<Figure size 432x288 with 1 Axes>"
      ]
     },
     "metadata": {
      "needs_background": "light"
     },
     "output_type": "display_data"
    },
    {
     "data": {
      "image/png": "[encoded data removed]",
      "text/plain": [
       "<Figure size 432x288 with 1 Axes>"
      ]
     },
     "metadata": {
      "needs_background": "light"
     },
     "output_type": "display_data"
    }
   ],
   "source": [
    "for col in param_dist.keys():\n",
    "    df = pd.DataFrame(columns=['score', col])\n",
    "    df['score'] = deepcopy(scores_max)\n",
    "    df[col] = [param[col] for param in param_list]\n",
    "\n",
    "    df = df.loc[df['score'] > 0.8, :]\n",
    "    means = []\n",
    "    maxes = []\n",
    "    val_names = deepcopy(param_dist[col])\n",
    "#     for val in val_names:\n",
    "#         means.append(np.mean(df.loc[df[col] == val, 'score']))\n",
    "#         maxes.append(np.max(df.loc[df[col] == val, 'score'])) \n",
    "    if col == 'scheduler':\n",
    "        df[col] = ['0' if val == [] else 'scheduler' for val in df[col]]\n",
    "        val_names = ['0' if val == [] else 'scheduler' for val in val_names]            \n",
    "    else:\n",
    "        if str(df.dtypes[col]) == 'object':\n",
    "            df[col] = [str(val.__name__) for val in df[col]]\n",
    "            val_names = [str(val.__name__) for val in val_names]\n",
    "    sns.boxplot(df[col], df['score'], showfliers=False)\n",
    "    plt.xlabel(col)\n",
    "    plt.ylabel('score')\n",
    "    plt.show()"
   ]
  },
  {
   "cell_type": "code",
   "execution_count": 58,
   "metadata": {},
   "outputs": [],
   "source": [
    "best_params = param_list[np.argmax(scores_max)]"
   ]
  },
  {
   "cell_type": "code",
   "execution_count": 62,
   "metadata": {},
   "outputs": [
    {
     "data": {
      "text/plain": [
       "{'deep': 1,\n",
       " 'width': 256,\n",
       " 'activation': <function keras.activations.tanh(x)>,\n",
       " 'batch_size': 32,\n",
       " 'lr': 0.0001,\n",
       " 'batch_norm': True,\n",
       " 'epochs': 8,\n",
       " 'scheduler': []}"
      ]
     },
     "execution_count": 62,
     "metadata": {},
     "output_type": "execute_result"
    }
   ],
   "source": [
    "best_params"
   ]
  },
  {
   "cell_type": "code",
   "execution_count": 224,
   "metadata": {},
   "outputs": [],
   "source": [
    "# wybrane z wykresów\n",
    "# best_params = {\n",
    "#     'deep': 2,\n",
    "#     'width': 128,\n",
    "#     'activation': selu,\n",
    "#     'batch_size': 64,\n",
    "#     'lr': 0.001,\n",
    "#     'batch_norm': True,\n",
    "#     'epochs': 8,\n",
    "#     'scheduler': [],\n",
    "#     'dropout': 0.0,\n",
    "# }"
   ]
  },
  {
   "cell_type": "code",
   "execution_count": 229,
   "metadata": {},
   "outputs": [],
   "source": [
    "# z RandomSearcha sklearnowego\n",
    "best_params = {\n",
    "    'width': 256,\n",
    "    'scheduler': [reduce_lr],\n",
    "    'lr': 0.0005,\n",
    "    'epochs': 6,\n",
    "    'deep': 2,\n",
    "    'batch_size': 256,\n",
    "    'batch_norm': True,\n",
    "    'activation': sigmoid,\n",
    "    'dropout': 0.0,\n",
    "}"
   ]
  },
  {
   "cell_type": "code",
   "execution_count": 219,
   "metadata": {},
   "outputs": [],
   "source": [
    "# z mojego random searcha\n",
    "# best_params = {\n",
    "#     'deep': 1,\n",
    "#     'width': 256,\n",
    "#     'activation': sigmoid,\n",
    "#     'batch_size': 64,\n",
    "#     'lr': 0.0005,\n",
    "#     'batch_norm': False,\n",
    "#     'epochs': 6,\n",
    "#     'scheduler': [reduce_lr],\n",
    "#     'dropout': 0.2\n",
    "# }"
   ]
  },
  {
   "cell_type": "code",
   "execution_count": 230,
   "metadata": {},
   "outputs": [],
   "source": [
    "model.set_params(**best_params)"
   ]
  },
  {
   "cell_type": "code",
   "execution_count": 231,
   "metadata": {},
   "outputs": [
    {
     "name": "stdout",
     "output_type": "stream",
     "text": [
      "0.9981620907783114\n"
     ]
    }
   ],
   "source": [
    "X_train, X_test, y_train, y_test = train_test_split(features, labels)\n",
    "model.fit(X_train, y_train)\n",
    "preds = model.predict(X_test)\n",
    "print(roc_auc_score(y_test, preds))"
   ]
  },
  {
   "cell_type": "code",
   "execution_count": 232,
   "metadata": {},
   "outputs": [],
   "source": [
    "preds_not_shuffled = model.predict(not_shuffled_features)"
   ]
  },
  {
   "cell_type": "code",
   "execution_count": 233,
   "metadata": {},
   "outputs": [],
   "source": [
    "np.save('preds_best_model', preds_not_shuffled)"
   ]
  },
  {
   "cell_type": "code",
   "execution_count": 27,
   "metadata": {},
   "outputs": [
    {
     "data": {
      "text/plain": [
       "{'width': 256,\n",
       " 'scheduler': [<keras.callbacks.ReduceLROnPlateau at 0x7f653416fef0>],\n",
       " 'lr': 0.0005,\n",
       " 'epochs': 6,\n",
       " 'deep': 2,\n",
       " 'batch_size': 256,\n",
       " 'batch_norm': True,\n",
       " 'activation': <function keras.activations.sigmoid(x)>}"
      ]
     },
     "execution_count": 27,
     "metadata": {},
     "output_type": "execute_result"
    }
   ],
   "source": [
    "results.best_params_"
   ]
  },
  {
   "cell_type": "code",
   "execution_count": 28,
   "metadata": {},
   "outputs": [
    {
     "data": {
      "text/plain": [
       "0.998044218432433"
      ]
     },
     "execution_count": 28,
     "metadata": {},
     "output_type": "execute_result"
    }
   ],
   "source": [
    "results.best_score_"
   ]
  },
  {
   "cell_type": "code",
   "execution_count": null,
   "metadata": {},
   "outputs": [],
   "source": []
  }
 ],
 "metadata": {
  "kernelspec": {
   "display_name": "licencjat",
   "language": "python",
   "name": "licencjat"
  },
  "language_info": {
   "codemirror_mode": {
    "name": "ipython",
    "version": 3
   },
   "file_extension": ".py",
   "mimetype": "text/x-python",
   "name": "python",
   "nbconvert_exporter": "python",
   "pygments_lexer": "ipython3",
   "version": "3.7.2"
  }
 },
 "nbformat": 4,
 "nbformat_minor": 2
}
